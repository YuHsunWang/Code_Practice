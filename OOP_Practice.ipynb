{
 "cells": [
  {
   "cell_type": "markdown",
   "id": "cd18f64c-ffab-450f-a791-f18ce3fc8ebf",
   "metadata": {},
   "source": [
    "假設你正在設計一個圖書館系統，需要實現以下幾個類：\n",
    "\n",
    "Book類：代表一本書，包含書的標題、作者和類別。\\\n",
    "Library類：代表圖書館，包含一個書籍清單和一個可以借閱書籍的方法。\\\n",
    "Member類：代表圖書館的會員，包含會員的名字和已借閱書籍的清單。\\\n",
    "使用這些類，你需要實現以下功能：\n",
    "\n",
    "圖書館可以添加書籍到書籍清單中。\\\n",
    "會員可以借閱圖書館中的書籍，借閱後書籍清單中應該移除該書籍。\\\n",
    "每本書都應該能夠顯示它的標題、作者和類別。\\\n",
    "請根據上述要求設計並實現相應的Python代碼。"
   ]
  },
  {
   "cell_type": "markdown",
   "id": "c87ef92b-1c33-42bc-bbdf-aa50c8960dcf",
   "metadata": {},
   "source": [
    "## 作答"
   ]
  },
  {
   "cell_type": "code",
   "execution_count": 40,
   "id": "f08ffba0-542e-48ef-aaf1-4b57c759afa4",
   "metadata": {
    "tags": []
   },
   "outputs": [],
   "source": [
    "class Book:\n",
    "    def __init__(self, title, author, category):\n",
    "        self.title = title\n",
    "        self.author = author\n",
    "        self.category = category\n",
    "    def info(self):\n",
    "        print(f'title:{self.title},author:{self.author},category:{self.category}')\n",
    "\n",
    "class Library:\n",
    "    def __init__(self):\n",
    "        self.books = []\n",
    "        \n",
    "    def add_book(self, book):\n",
    "        self.books.append(book)\n",
    "        \n",
    "    def lend_book(self, member, book_title):\n",
    "        for book in self.books:\n",
    "            if book.title == book_title:\n",
    "                self.books.remove(book)\n",
    "                member.borrowed_books.append(book)\n",
    "                print(f\"{book.title} has been lent to {member.name}.\")\n",
    "                return\n",
    "            print(f'{book_title} is  not found in Library')\n",
    "            \n",
    "    def display_books(self):\n",
    "        if self.books:\n",
    "            print(\"Books available in the Library:\")\n",
    "            for book in self.books:\n",
    "                book.info()\n",
    "        else:\n",
    "            print(\"The library has no books available.\")\n",
    "            \n",
    "class Member:\n",
    "    def __init__(self, name):\n",
    "        self.name = name\n",
    "        self.borrowed_books = []\n",
    "        \n",
    "    def display_borrowed_books(self):\n",
    "        if self.borrowed_books:\n",
    "            print(f\"Books borrowed by {self.name}:\")\n",
    "            for book in self.borrowed_books:\n",
    "                book.info()\n",
    "        else:\n",
    "            print(f\"{self.name} does not borrowed the book\")"
   ]
  },
  {
   "cell_type": "code",
   "execution_count": 41,
   "id": "4b20221d-1e68-469f-9e82-394d6db1565d",
   "metadata": {
    "tags": []
   },
   "outputs": [
    {
     "name": "stdout",
     "output_type": "stream",
     "text": [
      "Books available in the Library:\n",
      "title:Book1,author:Author1,category:Fiction\n",
      "title:Book2,author:Author2,category:Non-Fiction\n",
      "Book1 has been lent to John.\n",
      "Books borrowed by John:\n",
      "title:Book1,author:Author1,category:Fiction\n",
      "Books available in the Library:\n",
      "title:Book2,author:Author2,category:Non-Fiction\n"
     ]
    }
   ],
   "source": [
    "if __name__ == \"__main__\":\n",
    "    # Create library\n",
    "    library = Library()\n",
    "\n",
    "    # Create books\n",
    "    book1 = Book(\"Book1\", \"Author1\", \"Fiction\")\n",
    "    book2 = Book(\"Book2\", \"Author2\", \"Non-Fiction\")\n",
    "\n",
    "    # Add books to library\n",
    "    library.add_book(book1)\n",
    "    library.add_book(book2)\n",
    "\n",
    "    # Display available books in library\n",
    "    library.display_books()\n",
    "\n",
    "    # Create member\n",
    "    member = Member(\"John\")\n",
    "\n",
    "    # John borrows a book\n",
    "    library.lend_book(member, \"Book1\")\n",
    "\n",
    "    # Display John's borrowed books\n",
    "    member.display_borrowed_books()\n",
    "\n",
    "    # Display available books in library after lending\n",
    "    library.display_books()"
   ]
  },
  {
   "cell_type": "markdown",
   "id": "4a0d2626-5e72-446a-9129-5cd65945abd4",
   "metadata": {},
   "source": [
    "# 問題：\n",
    "\n",
    "假設你正在開發一個電子商務平台，你需要設計幾個類來表示產品、顧客和訂單。以下是你需要實現的功能：\n",
    "\n",
    "Product類：代表一個產品，擁有產品名稱、價格和庫存數量。\\\n",
    "Customer類：代表一個顧客，擁有顧客名稱和餘額。\\\n",
    "Order類：代表一個訂單，擁有一個顧客、一個或多個產品、以及訂單總金額。訂單總金額是所有產品的價格總和。\\\n",
    "ECommercePlatform類：代表整個電子商務平台，擁有產品目錄和處理訂單的功能。它應該能夠添加新產品、處理訂單、並更新產品庫存數量。"
   ]
  },
  {
   "cell_type": "markdown",
   "id": "7a82a518-aadd-40a5-9707-592b1ddf2d14",
   "metadata": {},
   "source": [
    "## 作答"
   ]
  },
  {
   "cell_type": "code",
   "execution_count": 34,
   "id": "c908ba0c-cde9-448f-89e6-7c818034de61",
   "metadata": {
    "tags": []
   },
   "outputs": [],
   "source": [
    "class Product():\n",
    "    def __init__(self, name, price, stock):\n",
    "        self.name = name\n",
    "        self.price = price\n",
    "        self.stock = stock\n",
    "    def info(self):\n",
    "        print(f'product:{self.name}, price:{self.price}, stock:{self.stock}')\n",
    "        \n",
    "class Customer():\n",
    "    def __init__(self, name, money):\n",
    "        self.name = name\n",
    "        self.money = money\n",
    "    def info(self):\n",
    "        print(f'Customer:{self.name}, money:{self.money}')\n",
    "        \n",
    "class Order():\n",
    "    def __init__(self, customer, purchase_list):\n",
    "        self.customer = customer\n",
    "        self.purchase_list = purchase_list\n",
    "        self.statue = 'Unprocessed'\n",
    "        self.total = 0\n",
    "        for product,num in self.purchase_list:\n",
    "            self.total += product.price * num\n",
    "        \n",
    "class ECommercePlatform():\n",
    "    def __init__(self):\n",
    "        self.product_list = []\n",
    "        self.order_list = []\n",
    "        self.stock = []\n",
    "        \n",
    "    def add_new_product(self, product):\n",
    "        self.product_list.append(product)\n",
    "        \n",
    "    def shipment(self, order):\n",
    "        for Order_list in order.purchase_list:\n",
    "            Order_list[0].stock -= Order_list[1]\n",
    "        order.customer.money -= order.total\n",
    "        print(f'{order.customer.name} buy {order.purchase_list}')\n",
    "        order.statue = 'Done'\n",
    "        \n",
    "    def show_product_list(self):\n",
    "        if self.product_list:\n",
    "            for product in self.product_list:\n",
    "                product.info()\n"
   ]
  },
  {
   "cell_type": "code",
   "execution_count": 35,
   "id": "f11a5f47-a6ea-49dc-8a25-5c680c5415de",
   "metadata": {
    "tags": []
   },
   "outputs": [
    {
     "name": "stdout",
     "output_type": "stream",
     "text": [
      "mary buy [(<__main__.Product object at 0x00000259706C7010>, 2), (<__main__.Product object at 0x000002596F8F4910>, 1)]\n",
      "product:apple, price:150, stock:8\n",
      "product:banana, price:200, stock:9\n"
     ]
    }
   ],
   "source": [
    "Platform = ECommercePlatform()\n",
    "apple = Product('apple',150,10)\n",
    "banana = Product('banana',200,10)\n",
    "mary = Customer('mary',500)\n",
    "Platform.add_new_product(apple)\n",
    "Platform.add_new_product(banana)\n",
    "Order1 = Order(mary, [(apple,2),(banana,1)])\n",
    "Platform.shipment(Order1)\n",
    "Platform.show_product_list()"
   ]
  },
  {
   "cell_type": "markdown",
   "id": "0a6624e2-17e2-4f6d-9d29-d7d8d53f0233",
   "metadata": {},
   "source": [
    "## 解答"
   ]
  },
  {
   "cell_type": "code",
   "execution_count": 38,
   "id": "8a433fb0-0de1-44bf-b674-277194c673d8",
   "metadata": {
    "tags": []
   },
   "outputs": [],
   "source": [
    "class Product:\n",
    "    def __init__(self, name, price, stock):\n",
    "        self.name = name\n",
    "        self.price = price\n",
    "        self.stock = stock\n",
    "\n",
    "    def info(self):\n",
    "        print(f'Product: {self.name}, Price: {self.price}, Stock: {self.stock}')\n",
    "\n",
    "\n",
    "class Customer:\n",
    "    def __init__(self, name, money):\n",
    "        self.name = name\n",
    "        self.money = money\n",
    "\n",
    "    def info(self):\n",
    "        print(f'Customer: {self.name}, Money: {self.money}')\n",
    "\n",
    "\n",
    "class Order:\n",
    "    def __init__(self, customer, purchase_list):\n",
    "        self.customer = customer\n",
    "        self.purchase_list = purchase_list\n",
    "        self.status = 'Unprocessed'\n",
    "        self.total = 0\n",
    "        for product, quantity in self.purchase_list:\n",
    "            self.total += product.price * quantity\n",
    "\n",
    "    def process_order(self):\n",
    "        for product, quantity in self.purchase_list:\n",
    "            if product.stock < quantity:\n",
    "                print(f\"Not enough stock available for {product.name}. Order cannot be processed.\")\n",
    "                return False\n",
    "        self.customer.money -= self.total\n",
    "        for product, quantity in self.purchase_list:\n",
    "            product.stock -= quantity\n",
    "        print(f\"Order processed for customer: {self.customer.name}.\")\n",
    "        self.status = 'Processed'\n",
    "        return True\n",
    "\n",
    "    def info(self):\n",
    "        print(f\"Customer: {self.customer.name}, Total: {self.total}, Status: {self.status}\")\n",
    "\n",
    "\n",
    "class ECommercePlatform:\n",
    "    def __init__(self):\n",
    "        self.product_list = []\n",
    "\n",
    "    def add_new_product(self, product):\n",
    "        self.product_list.append(product)\n",
    "\n",
    "    def show_product_list(self):\n",
    "        if self.product_list:\n",
    "            print(\"Product List:\")\n",
    "            for product in self.product_list:\n",
    "                product.info()\n",
    "        else:\n",
    "            print(\"No products available.\")\n",
    "\n",
    "    def place_order(self, customer, purchase_list):\n",
    "        order = Order(customer, purchase_list)\n",
    "        if order.process_order():\n",
    "            print(\"Order placed successfully.\")\n",
    "        else:\n",
    "            print(\"Failed to place order. Please check stock availability.\")"
   ]
  },
  {
   "cell_type": "code",
   "execution_count": 39,
   "id": "2bce1d75-57d0-432e-a42b-cc7ce06c5201",
   "metadata": {
    "tags": []
   },
   "outputs": [
    {
     "name": "stdout",
     "output_type": "stream",
     "text": [
      "Product List:\n",
      "Product: Product1, Price: 10, Stock: 20\n",
      "Product: Product2, Price: 15, Stock: 10\n",
      "Order processed for customer: Alice.\n",
      "Order placed successfully.\n",
      "Product List:\n",
      "Product: Product1, Price: 10, Stock: 15\n",
      "Product: Product2, Price: 15, Stock: 7\n",
      "Customer: Alice, Money: 5\n"
     ]
    }
   ],
   "source": [
    "if __name__ == \"__main__\":\n",
    "    platform = ECommercePlatform()\n",
    "    product1 = Product(\"Product1\", 10, 20)\n",
    "    product2 = Product(\"Product2\", 15, 10)\n",
    "    customer = Customer(\"Alice\", 100)\n",
    "    platform.add_new_product(product1)\n",
    "    platform.add_new_product(product2)\n",
    "    platform.show_product_list()\n",
    "    order = [(product1, 5), (product2, 3)]\n",
    "    platform.place_order(customer, order)\n",
    "    platform.show_product_list()\n",
    "    customer.info()"
   ]
  },
  {
   "cell_type": "markdown",
   "id": "04c5393f-dcb6-463d-852c-18714c2fcaa6",
   "metadata": {},
   "source": [
    "# 問題：\n",
    "\n",
    "假設你正在開發一個簡單的遊戲，遊戲中有角色和武器。你需要設計幾個類來表示這些概念：\n",
    "\n",
    "Character類：代表遊戲中的角色，擁有名稱、生命值和攻擊力。\\\n",
    "Weapon類：代表遊戲中的武器，擁有名稱和攻擊力。\n",
    "你需要實現以下功能：\n",
    "\n",
    "角色可以攜帶武器。\n",
    "角色可以使用武器進行攻擊，攻擊力取決於武器的攻擊力。\n",
    "當角色被攻擊時，生命值會減少，減少的值取決於攻擊者的攻擊力。\n",
    "請根據上述要求設計並實現相應的Python代碼。"
   ]
  },
  {
   "cell_type": "markdown",
   "id": "590ad536-564c-4766-a43e-6ef31beb717d",
   "metadata": {},
   "source": [
    "## 回答"
   ]
  },
  {
   "cell_type": "code",
   "execution_count": 213,
   "id": "74208545-453a-4f77-90b4-e68ac2c705ea",
   "metadata": {
    "tags": []
   },
   "outputs": [],
   "source": [
    "class Character:\n",
    "    def __init__(self, name, hp, ap):\n",
    "        self.name = name\n",
    "        self.hp = hp\n",
    "        self.ap = ap\n",
    "        self.weapon = None\n",
    "    def info(self):\n",
    "        if self.weapon == None:\n",
    "            print(f'ID:{self.name}, HP = {self.hp}, AP = {self.ap}')\n",
    "        else:\n",
    "            print(f'ID:{self.name}, HP = {self.hp}, AP = {self.ap}, Weapon = {self.weapon.name}, Weapon_AP = {self.weapon.ap}')\n",
    "    def equip(self, Weapon):\n",
    "        if Weapon.owner!= None:\n",
    "            Weapon.owner.weapon = None        \n",
    "        self.weapon = Weapon\n",
    "        Weapon.owner = self\n",
    "        print(f'{self.name} equip the {Weapon.name}')\n",
    "        \n",
    "    def attack(self, villain):\n",
    "        if self.weapon != None:\n",
    "            self.damage = max(self.weapon.ap - villain.ap, 0)\n",
    "            villain.hp -= self.damage\n",
    "            print(f'{self.name} deal {self.damage} damage to {villain.name}. {villain.name} now has {villain.hp} HP')\n",
    "        else:\n",
    "            print(f'{self.name} cannot attack cus he does not equip the weapon.')\n",
    "            \n",
    "class Weapon:\n",
    "    def __init__(self, name, ap):\n",
    "        self.name = name\n",
    "        self.ap = ap\n",
    "        self.owner = None\n",
    "    def info(self):\n",
    "        if self.owner != None:\n",
    "            print(f'Weapon:{self.name}, AP = {self.ap}, Owner = {self.owner.name}')\n",
    "        else:\n",
    "            print(f'Weapon:{self.name}, AP = {self.ap}, Owner = {self.owner}')"
   ]
  },
  {
   "cell_type": "code",
   "execution_count": 214,
   "id": "3c301f22-00b4-40f3-b9e2-f3a28acdc009",
   "metadata": {
    "tags": []
   },
   "outputs": [
    {
     "name": "stdout",
     "output_type": "stream",
     "text": [
      "ID:Hero, HP = 100, AP = 20\n",
      "Weapon:Sword, AP = 10, Owner = None\n",
      "Hero equip the Sword\n",
      "ID:Hero, HP = 100, AP = 20, Weapon = Sword, Weapon_AP = 10\n",
      "Weapon:Sword, AP = 10, Owner = Hero\n",
      "Hero deal 0 damage to Villain. Villain now has 100 HP\n",
      "ID:Villain, HP = 100, AP = 15\n"
     ]
    }
   ],
   "source": [
    "if __name__ == \"__main__\":\n",
    "    # 創建角色和武器\n",
    "    hero = Character(\"Hero\", 100, 20)\n",
    "    weapon = Weapon(\"Sword\", 10)\n",
    "    \n",
    "    # 顯示角色和武器信息\n",
    "    hero.info()\n",
    "    weapon.info()\n",
    "    \n",
    "    # 角色裝備武器\n",
    "    hero.equip(weapon)\n",
    "    hero.info()\n",
    "    weapon.info()\n",
    "    \n",
    "    # 創建另一個角色並攻擊\n",
    "    villain = Character(\"Villain\", 100, 15)\n",
    "    hero.attack(villain)\n",
    "    \n",
    "    # 顯示攻擊後的生命值\n",
    "    villain.info()"
   ]
  },
  {
   "cell_type": "markdown",
   "id": "60b8d03a-0553-4760-b980-c86f228809fe",
   "metadata": {},
   "source": [
    "# 問題：\n",
    "\n",
    "假設你正在開發一個線上論壇系統，你需要設計幾個類來表示用戶、文章和評論。以下是你需要實現的功能：\n",
    "\n",
    "User類：代表論壇的用戶，擁有用戶名稱、電子郵件地址和註冊日期。\\\n",
    "Post類：代表論壇上的文章，擁有標題、內容、作者和發布日期。\\\n",
    "Comment類：代表對文章的評論，擁有內容、作者和發布日期。\n",
    "\n",
    "你需要實現以下功能：\n",
    "\n",
    "用戶可以創建新文章、對文章發表評論。\\\n",
    "文章可以顯示所有評論。\\\n",
    "用戶可以查看自己發表的文章以及對其文章的評論。"
   ]
  },
  {
   "cell_type": "markdown",
   "id": "c0d2ba5d-1f58-4524-90a8-760988c6bac9",
   "metadata": {},
   "source": [
    "## 回答"
   ]
  },
  {
   "cell_type": "code",
   "execution_count": 233,
   "id": "6aae3633-281c-4fad-805d-fb96ec1cd7f8",
   "metadata": {
    "tags": []
   },
   "outputs": [],
   "source": [
    "class User:\n",
    "    def __init__(self, name, email, register_time):\n",
    "        self.name = name\n",
    "        self.email = email\n",
    "        self.register = register_time\n",
    "        self.post_list = []\n",
    "        self.comment_list = []\n",
    "    def show_all_comment(self):\n",
    "        if self.comment_list:\n",
    "            print(f'{self.name} commit:')\n",
    "            for comment in self.comment_list:\n",
    "                print(f'Title:{comment.post.title}\\n content:{comment.content}\\n post time:{comment.post_time} ')\n",
    "        else:\n",
    "            print(f'{self.name} did not comment anything.')\n",
    "            \n",
    "    def show_all_title(self):\n",
    "        if self.post_list:\n",
    "            print(f'{self.name} post:')\n",
    "            for post in self.post_list:\n",
    "                print(f'Title:{post.title}\\n content:{post.content}\\n post time:{post.post_time}')\n",
    "        else:\n",
    "            print(f'{self.name} did not post anything.')\n",
    "class Post:\n",
    "    def __init__(self, title, content, author, post_time):\n",
    "        self.title = title\n",
    "        self.content = content\n",
    "        self.author = author\n",
    "        self.post_time = post_time\n",
    "        self.comment_list = []\n",
    "        \n",
    "    def new_post(self):\n",
    "        self.author.post_list.append(self)\n",
    "        \n",
    "    def show_all_comment(self):\n",
    "        if self.comment_list:\n",
    "            for comment in self.comment_list:\n",
    "                print(f'commentator:{comment.author.name}\\n content:{comment.content}\\n post time:{comment.post_time}')\n",
    "        else:\n",
    "            print('There is no comment on the article.')\n",
    "            \n",
    "class Comment:\n",
    "    def __init__(self, post, content, author, post_time):\n",
    "        self.post = post\n",
    "        self.content = content\n",
    "        self.author = author\n",
    "        self.post_time = post_time\n",
    "    def commit(self):\n",
    "        self.post.comment_list.append(self)\n",
    "        self.author.comment_list.append(self)"
   ]
  },
  {
   "cell_type": "code",
   "execution_count": 234,
   "id": "9918c319-cbca-4328-a16f-02e25467be16",
   "metadata": {
    "tags": []
   },
   "outputs": [
    {
     "name": "stdout",
     "output_type": "stream",
     "text": [
      "Alice post:\n",
      "Title:Title1\n",
      " content:Content1\n",
      " post time:2022-03-22\n",
      "Title:Title2\n",
      " content:Content2\n",
      " post time:2022-03-23\n",
      "Alice commit:\n",
      "Title:Title1\n",
      " content:Comment1 on post1\n",
      " post time:2022-03-24 \n",
      "Title:Title1\n",
      " content:Comment2 on post1\n",
      " post time:2022-03-25 \n",
      "commentator:Alice\n",
      " content:Comment1 on post1\n",
      " post time:2022-03-24\n",
      "commentator:Alice\n",
      " content:Comment2 on post1\n",
      " post time:2022-03-25\n"
     ]
    }
   ],
   "source": [
    "if __name__ == \"__main__\":\n",
    "    # 創建用戶\n",
    "    user1 = User(\"Alice\", \"alice@example.com\", \"2022-03-21\")\n",
    "    \n",
    "    # 創建文章\n",
    "    post1 = Post(\"Title1\", \"Content1\", user1, \"2022-03-22\")\n",
    "    post1.new_post()\n",
    "    post2 = Post(\"Title2\", \"Content2\", user1, \"2022-03-23\")\n",
    "    post2.new_post()\n",
    "    \n",
    "    # 創建評論\n",
    "    comment1 = Comment(post1, \"Comment1 on post1\", user1, \"2022-03-24\")\n",
    "    comment1.commit()\n",
    "    comment2 = Comment(post1, \"Comment2 on post1\", user1, \"2022-03-25\")\n",
    "    comment2.commit()\n",
    "    # 顯示用戶的所有文章和評論\n",
    "    user1.show_all_title()\n",
    "    user1.show_all_comment()\n",
    "    \n",
    "    # 顯示文章的所有評論\n",
    "    post1.show_all_comment()"
   ]
  },
  {
   "cell_type": "markdown",
   "id": "ab94659f-7300-42fa-8228-ec27039cb02a",
   "metadata": {},
   "source": [
    "# 問題(繼承)：\n",
    "\n",
    "假設你正在開發一個動物園管理系統，你需要設計幾個類來表示不同種類的動物。以下是你需要實現的功能：\n",
    "\n",
    "Animal類：代表動物，擁有名稱、年齡和類型等屬性。該類還應該具有發出聲音的方法 make_sound。\\\n",
    "Dog類：代表狗，繼承自 Animal 類。狗具有特定的品種（例如拉布拉多、哈士奇等），並且可以做特定的動作，如 fetch。\\\n",
    "Cat類：代表貓，繼承自 Animal 類。貓也有特定的品種（例如波斯貓、暹羅貓等），並且可以做特定的動作，如 scratch。\\\n",
    "Bird類：代表鳥，繼承自 Animal 類。鳥類有翅膀的特性，並且可以做特定的動作，如 fly。"
   ]
  },
  {
   "cell_type": "code",
   "execution_count": 236,
   "id": "e5857700-f044-417a-b4c9-992a0a3c63bd",
   "metadata": {
    "tags": []
   },
   "outputs": [],
   "source": [
    "class Animal:\n",
    "    def __init__(self, name, age):\n",
    "        self.name = name\n",
    "        self.age = age\n",
    "    def make_sound(self):\n",
    "        print('make sound')\n",
    "        \n",
    "class Dog(Animal):\n",
    "    def __init__(self, name, age, breed):\n",
    "        super().__init__(name, age)\n",
    "        self.breed = breed\n",
    "    def make_sound(self):\n",
    "        print('woof')\n",
    "    def fetch(self):\n",
    "        print('fetching')\n",
    "        \n",
    "class Cat(Animal):\n",
    "    def __init__(self, name, age, breed):\n",
    "        super().__init__(name, age)\n",
    "        self.breed = breed\n",
    "    def make_sound(self):\n",
    "        print('meow')\n",
    "    def scratch(self):\n",
    "        print('scratching')\n",
    "        \n",
    "class Bird(Animal):\n",
    "    def __init__(self, name, age, wing):\n",
    "        super().__init__(name, age)\n",
    "        self.wing = wing\n",
    "    def make_sound(self):\n",
    "        print('chirp')\n",
    "    def fly(self):\n",
    "        print('flying')"
   ]
  },
  {
   "cell_type": "code",
   "execution_count": 237,
   "id": "d60e6e93-be88-4f46-a5f1-63385b7ee3f9",
   "metadata": {
    "tags": []
   },
   "outputs": [
    {
     "name": "stdout",
     "output_type": "stream",
     "text": [
      "woof\n",
      "fetching\n",
      "meow\n",
      "scratching\n",
      "chirp\n",
      "flying\n"
     ]
    }
   ],
   "source": [
    "# 創建一個 Dog 的實例\n",
    "my_dog = Dog(\"Buddy\", 3, \"Labrador\")\n",
    "\n",
    "# 創建一個 Cat 的實例\n",
    "my_cat = Cat(\"Whiskers\", 2, \"Persian\")\n",
    "\n",
    "# 創建一個 Bird 的實例\n",
    "my_bird = Bird(\"Tweety\", 1, \"small\")\n",
    "\n",
    "# 使用各個實例的方法\n",
    "my_dog.make_sound()   # 輸出: woof\n",
    "my_dog.fetch()        # 輸出: fetching\n",
    "\n",
    "my_cat.make_sound()   # 輸出: meow\n",
    "my_cat.scratch()      # 輸出: scratching\n",
    "\n",
    "my_bird.make_sound()  # 輸出: chirp\n",
    "my_bird.fly()         # 輸出: flying"
   ]
  },
  {
   "cell_type": "code",
   "execution_count": null,
   "id": "64f3cc45-d135-4a8d-b297-71a7d8c6aa68",
   "metadata": {},
   "outputs": [],
   "source": [
    "a = Dog('')"
   ]
  }
 ],
 "metadata": {
  "kernelspec": {
   "display_name": "Python 3 (ipykernel)",
   "language": "python",
   "name": "python3"
  },
  "language_info": {
   "codemirror_mode": {
    "name": "ipython",
    "version": 3
   },
   "file_extension": ".py",
   "mimetype": "text/x-python",
   "name": "python",
   "nbconvert_exporter": "python",
   "pygments_lexer": "ipython3",
   "version": "3.11.5"
  }
 },
 "nbformat": 4,
 "nbformat_minor": 5
}
